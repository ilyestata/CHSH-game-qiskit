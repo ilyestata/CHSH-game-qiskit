{
 "cells": [
  {
   "cell_type": "code",
   "execution_count": null,
   "id": "1077d8a4-8746-48dd-bdac-1e1b4111dfce",
   "metadata": {
    "scrolled": true
   },
   "outputs": [],
   "source": [
    "from qiskit import QuantumCircuit, transpile\n",
    "from qiskit_aer import Aer\n",
    "import random\n",
    "import numpy as np\n",
    "simulator = Aer.get_backend('qasm_simulator')\n",
    "numTrials = 100000\n",
    "numSuccess = 0\n",
    "\n",
    "for i in range(numTrials):\n",
    "    qc = QuantumCircuit(2,2)\n",
    "    qc.h(0)\n",
    "    qc.cx(0, 1)\n",
    "    \n",
    "    x = random.randint(0,1)\n",
    "    #print('x: ' + str(x))\n",
    "    y = random.randint(0,1)\n",
    "    #print('y: ' + str(y))\n",
    "    \n",
    "    #Alice:\n",
    "    if(x == 1):\n",
    "        qc.h(0)\n",
    "    \n",
    "    #Note, since qiskit uses a bloch sphere, we have to multiply the angles calculated mathematically by two\n",
    "    #Since 0 and 1 state lie on z-axis and the + and - basis lie on the x-axis, we must perform the rotation relative to the y-axis\n",
    "    #Bob: When y = 0, rotate basis by pi/8 and when y = 1 rotate basis by -pi/8\n",
    "    if(y == 0):\n",
    "        qc.ry(-np.pi/4, 1)\n",
    "    else:\n",
    "        qc.ry(np.pi/4, 1)\n",
    "    \n",
    "    qc.measure([0,1], [0,1])\n",
    "    \n",
    "    job = simulator.run(transpile(qc, simulator), shots=1)\n",
    "    result = job.result()\n",
    "    \n",
    "    counts = result.get_counts(qc)\n",
    "    bitstring = list(counts.keys())[0]\n",
    "    \n",
    "    a = int(bitstring[1])\n",
    "    #print('a: ' + str(a))\n",
    "    b = int(bitstring[0])\n",
    "    #print('b: ' + str(b))\n",
    "    \n",
    "    if((a ^ b) == (x & y)):\n",
    "        numSuccess += 1\n",
    "print(numSuccess/numTrials)"
   ]
  },
  {
   "cell_type": "code",
   "execution_count": 74,
   "id": "aaba6833-690e-43e8-8940-f595f0dd96f4",
   "metadata": {},
   "outputs": [
    {
     "name": "stdout",
     "output_type": "stream",
     "text": [
      "0.75064\n"
     ]
    }
   ],
   "source": [
    "a_outputs = [0, 0]\n",
    "b_outputs = [0, 1]\n",
    "\n",
    "numSuccess = 0\n",
    "numTries = 100000\n",
    "\n",
    "for _ in range(numTries):\n",
    "    x = random.randint(0,1)\n",
    "    y = random.randint(0,1)\n",
    "\n",
    "    a = a_outputs[x]\n",
    "    b = b_outputs[y]\n",
    "\n",
    "    if (a ^ b) == (x & y):\n",
    "        numSuccess += 1\n",
    "\n",
    "print(numSuccess / numTries)  "
   ]
  },
  {
   "cell_type": "code",
   "execution_count": null,
   "id": "9e9bfd37-dfe7-48d3-8f65-adfac22ec307",
   "metadata": {},
   "outputs": [],
   "source": []
  },
  {
   "cell_type": "code",
   "execution_count": null,
   "id": "9672e4d7-5287-433d-9da1-86dc3a41b39c",
   "metadata": {},
   "outputs": [],
   "source": []
  }
 ],
 "metadata": {
  "kernelspec": {
   "display_name": "Python 3 (ipykernel)",
   "language": "python",
   "name": "python3"
  },
  "language_info": {
   "codemirror_mode": {
    "name": "ipython",
    "version": 3
   },
   "file_extension": ".py",
   "mimetype": "text/x-python",
   "name": "python",
   "nbconvert_exporter": "python",
   "pygments_lexer": "ipython3",
   "version": "3.13.7"
  }
 },
 "nbformat": 4,
 "nbformat_minor": 5
}
